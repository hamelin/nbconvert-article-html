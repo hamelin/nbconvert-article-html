{
 "cells": [
  {
   "cell_type": "markdown",
   "id": "bb551653-414c-4a54-8475-e3c72e24db5d",
   "metadata": {
    "tags": [
     "drop"
    ]
   },
   "source": [
    "---"
   ]
  },
  {
   "cell_type": "markdown",
   "id": "f9915775-a1dd-4d9d-924a-124a7c7a91bb",
   "metadata": {
    "tags": [
     "abstract"
    ]
   },
   "source": [
    "This is the abstract of the article."
   ]
  },
  {
   "cell_type": "markdown",
   "id": "80007c4a-88f0-489e-b3e6-3bf2115d38b6",
   "metadata": {
    "tags": [
     "abstract"
    ]
   },
   "source": [
    "It can be composed of more than a single cell."
   ]
  },
  {
   "cell_type": "markdown",
   "id": "93173edf-26da-44b4-a26f-05ce481619a4",
   "metadata": {
    "tags": [
     "drop"
    ]
   },
   "source": [
    "---"
   ]
  },
  {
   "cell_type": "markdown",
   "id": "94f29755-ad5a-4c7c-9cd9-d98596cb3329",
   "metadata": {
    "label": {
     "sec": "hierarchically"
    },
    "tags": []
   },
   "source": [
    "# Sections are numbered hierarchically"
   ]
  },
  {
   "cell_type": "markdown",
   "id": "c46a1434-6bb9-4c20-857e-0de736a4da5c",
   "metadata": {},
   "source": [
    "Provided one `label`s them in the heading cell's metadata."
   ]
  },
  {
   "cell_type": "markdown",
   "id": "89e4ad40-ada2-4cd5-be89-7685ac156875",
   "metadata": {
    "label": {
     "sec": "another"
    },
    "tags": []
   },
   "source": [
    "# Let's have another level-1 heading"
   ]
  },
  {
   "cell_type": "markdown",
   "id": "a0303f3a-9041-4c66-9ff2-537745998fd1",
   "metadata": {},
   "source": [
    "Just so we can have some interesting heading numbers, such as the next section's, namely ^[](sec:level2). The label/reference system is inspired from LaTeX.^[](note:latex)"
   ]
  },
  {
   "cell_type": "markdown",
   "id": "58d1fb4d-3e69-4984-baa4-423ae705ced6",
   "metadata": {
    "label": {
     "note": "latex"
    },
    "tags": []
   },
   "source": [
    "LaTeX is an excellent, seminal typesetting system by Leslie Lamport. https://www.latex-project.org/ ^[](note:extracted)"
   ]
  },
  {
   "cell_type": "markdown",
   "id": "ad3b6c17-4838-4007-9428-e4835b5b2c0e",
   "metadata": {
    "label": {
     "note": "extracted"
    },
    "tags": []
   },
   "source": [
    "Remark how notes are extracted and rendered into a section at the end of the document. This is also where we intend to put up citations."
   ]
  },
  {
   "cell_type": "markdown",
   "id": "00722294-b779-407e-8e0e-031e49c879a4",
   "metadata": {},
   "source": [
    "In the Notes section [at the end](#notes), remark how we insist on writing up the external URLs explicitly. This is so the reader who consumes a print-out of the document may follow these URLs as well as the digital reader."
   ]
  },
  {
   "cell_type": "markdown",
   "id": "61c2f88c-f9f0-4d77-b02e-b77375adc553",
   "metadata": {
    "label": {
     "sec": "level2"
    },
    "tags": []
   },
   "source": [
    "## Like this one level-2 heading here"
   ]
  },
  {
   "cell_type": "markdown",
   "id": "7b773484-19c9-4e8d-98b2-37163fc34ecc",
   "metadata": {},
   "source": [
    "Thanks to MathJax,^[](note:mathjax) we get pretty good equation typesetting. This template adds automated numbering to them when they are labeled."
   ]
  },
  {
   "cell_type": "markdown",
   "id": "5123886f-21f6-46fb-bb29-a0251811a628",
   "metadata": {
    "label": {
     "note": "mathjax"
    },
    "tags": []
   },
   "source": [
    "MathJax is a Javascript library to render equations expressed in a LaTeX-like^[](note:latex) system. https://www.mathjax.org/"
   ]
  },
  {
   "cell_type": "markdown",
   "id": "6a64523e-e47e-4151-9744-45ecd4d06d72",
   "metadata": {
    "label": {
     "eq": "entropy-shannon"
    },
    "tags": []
   },
   "source": [
    "$$\\mathrm{H}(X) = -\\sum_{i=1}^n \\mathrm{P}(x_i)\\log\\mathrm{P}(x_i)$$"
   ]
  },
  {
   "cell_type": "markdown",
   "id": "6dcd6c09-e455-410c-8fa4-0b916e9beefa",
   "metadata": {},
   "source": [
    "Obviously, anything one labels is numbered, and anything numbered, such as ^[](eq:entropy-shannon), can be refered back to."
   ]
  },
  {
   "cell_type": "markdown",
   "id": "dd1d0cac-5240-467c-b45d-f14a8062c397",
   "metadata": {},
   "source": [
    "## This heading will not be numbered"
   ]
  },
  {
   "cell_type": "markdown",
   "id": "7274482d-60d8-4f95-b7bf-82cc22a6636f",
   "metadata": {},
   "source": [
    "This is thanks to not being labeled."
   ]
  },
  {
   "cell_type": "markdown",
   "id": "42cfdff1-aaf8-4c86-8c83-8e41a58e0d45",
   "metadata": {
    "label": {
     "sec": "back"
    },
    "tags": []
   },
   "source": [
    "## And we're back to numbered headings"
   ]
  },
  {
   "cell_type": "markdown",
   "id": "2d2d96c9-b99f-433c-82cd-820ee855ae8c",
   "metadata": {},
   "source": [
    "Obviously, it is poor writing style to mix in the two, but please bear with me here for the sake of example. The numbered-if-labeled gimmick acts as *de facto* configuration for the maximum level of numbered headings."
   ]
  },
  {
   "cell_type": "markdown",
   "id": "601d90c5-7143-4931-8a32-aa8b01796530",
   "metadata": {
    "label": {
     "sec": "figures-tables"
    },
    "tags": []
   },
   "source": [
    "# Figures and tables"
   ]
  },
  {
   "cell_type": "markdown",
   "id": "c246d802-1bd3-4329-b778-1f61801b471b",
   "metadata": {},
   "source": [
    "While one can put images and tables anywhere in their documents, this template provides a way to number and associate a legend to such one may want to refer to. Here is a figure showcasing a piece of code."
   ]
  },
  {
   "cell_type": "markdown",
   "id": "b1e4e1f6-4594-41bc-9a84-859adadf4dd7",
   "metadata": {
    "label": {
     "fig": "fizzbuzz"
    },
    "tags": []
   },
   "source": [
    "```python\n",
    "def fizzbuzz(ints: Iterator[int]) -> Iterator[str]:\n",
    "    response = []\n",
    "    for n in ints:\n",
    "        if n % 3 == 0:\n",
    "            response.append(\"Fizz\")\n",
    "        if n % 5 == 0:\n",
    "            response.append(\"Buzz\")\n",
    "        if not response:\n",
    "            response.append(str(n))\n",
    "        yield \"\".join(response)\n",
    "```"
   ]
  },
  {
   "cell_type": "markdown",
   "id": "58139a77-d52b-49a1-9fae-75052e659418",
   "metadata": {
    "tags": [
     "legend"
    ]
   },
   "source": [
    "A FizzBuzz^[](note:fizzbuzz) solution formulated as a stream transformation."
   ]
  },
  {
   "cell_type": "markdown",
   "id": "ee44eb48-8f05-4012-b82d-78b9a1e5cc79",
   "metadata": {
    "label": {
     "note": "fizzbuzz"
    },
    "tags": []
   },
   "source": [
    "*Fizz buzz* is a word game often thrown at budding programmers as a first algorithm design challenge. https://en.wikipedia.org/wiki/Fizz_buzz ^[](fig:fizzbuzz) shows one implementation of this problem."
   ]
  },
  {
   "cell_type": "markdown",
   "id": "56ab0ff9-2dda-4eff-8207-2ef55ea9d9a6",
   "metadata": {},
   "source": [
    "Now here's a table."
   ]
  },
  {
   "cell_type": "markdown",
   "id": "e0660a97-64f0-4c1a-95d0-fbca23c81833",
   "metadata": {
    "label": {
     "tab": "birthdays"
    },
    "tags": []
   },
   "source": [
    "| Person        | Birthday   |\n",
    "|:--------------|:----------:|\n",
    "| Lady Gaga     | 1986-03-28 |\n",
    "| Madonna       | 1958-08-16 |\n",
    "| Eddie Vedder  | 1964-12-23 |\n",
    "| Taylor Momsen | 1993-07-26 |\n",
    "| Björk         | 1965-11-21 |\n",
    "| My partner    | uhh... ope |"
   ]
  },
  {
   "cell_type": "markdown",
   "id": "3fded9ea-d913-4306-ba78-8c40c0171d16",
   "metadata": {
    "tags": [
     "legend"
    ]
   },
   "source": [
    "The problematic memory of the Internet-adled brain."
   ]
  },
  {
   "cell_type": "markdown",
   "id": "ebb5ee89-87d5-4e8f-b96c-63bd627e0f90",
   "metadata": {},
   "source": [
    "^[](tab:birthdays) also may explain my fear for having a short life expectancy. Figure and table numbers, as well as equation and note numbers, increase across sections, as is the default in a LaTeX article."
   ]
  }
 ],
 "metadata": {
  "authors": [
   {
    "name": "Janet Doe"
   },
   {
    "name": "Jim Smith"
   },
   {
    "name": "Clara St. Clair"
   }
  ],
  "date": "July 2022",
  "kernelspec": {
   "display_name": "Python 3 (ipykernel)",
   "language": "python",
   "name": "python3"
  },
  "language": "en",
  "language_info": {
   "codemirror_mode": {
    "name": "ipython",
    "version": 3
   },
   "file_extension": ".py",
   "mimetype": "text/x-python",
   "name": "python",
   "nbconvert_exporter": "python",
   "pygments_lexer": "ipython3",
   "version": "3.9.12"
  },
  "title": "Demonstration of this template's features"
 },
 "nbformat": 4,
 "nbformat_minor": 5
}
