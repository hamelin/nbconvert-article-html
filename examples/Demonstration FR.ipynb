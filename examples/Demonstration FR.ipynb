{
 "cells": [
  {
   "cell_type": "markdown",
   "id": "bb551653-414c-4a54-8475-e3c72e24db5d",
   "metadata": {
    "tags": [
     "drop"
    ]
   },
   "source": [
    "---"
   ]
  },
  {
   "cell_type": "markdown",
   "id": "f9915775-a1dd-4d9d-924a-124a7c7a91bb",
   "metadata": {
    "tags": [
     "abstract"
    ]
   },
   "source": [
    "Ceci est le résumé de l'article."
   ]
  },
  {
   "cell_type": "markdown",
   "id": "80007c4a-88f0-489e-b3e6-3bf2115d38b6",
   "metadata": {
    "tags": [
     "abstract"
    ]
   },
   "source": [
    "Il peut être composé de plus d'une seule cellule."
   ]
  },
  {
   "cell_type": "markdown",
   "id": "93173edf-26da-44b4-a26f-05ce481619a4",
   "metadata": {
    "tags": [
     "drop"
    ]
   },
   "source": [
    "---"
   ]
  },
  {
   "cell_type": "markdown",
   "id": "94f29755-ad5a-4c7c-9cd9-d98596cb3329",
   "metadata": {
    "label": {
     "sec": "hierarchically"
    },
    "tags": []
   },
   "source": [
    "# Les sections sont numérotées hiérarchiquement"
   ]
  },
  {
   "cell_type": "markdown",
   "id": "c46a1434-6bb9-4c20-857e-0de736a4da5c",
   "metadata": {},
   "source": [
    "Pourvu qu'on ajoute le champ `label` aux métadonnées de la cellule contenant le titre de section."
   ]
  },
  {
   "cell_type": "markdown",
   "id": "89e4ad40-ada2-4cd5-be89-7685ac156875",
   "metadata": {
    "label": {
     "sec": "another"
    },
    "tags": []
   },
   "source": [
    "# Voici une autre section de niveau 1"
   ]
  },
  {
   "cell_type": "markdown",
   "id": "a0303f3a-9041-4c66-9ff2-537745998fd1",
   "metadata": {},
   "source": [
    "Ainsi qu'on puisse avoir des numéros de section dignes d'intérêt, comme ceux de la prochaine ^[](sec:level2). Le système d'étiquettes et références est inspiré de LaTeX.^[](note:latex)"
   ]
  },
  {
   "cell_type": "markdown",
   "id": "58d1fb4d-3e69-4984-baa4-423ae705ced6",
   "metadata": {
    "label": {
     "note": "latex"
    },
    "tags": []
   },
   "source": [
    "LaTeX est un système de typographie inspirant introduit par Leslie Lamport. https://www.latex-project.org/ ^[](note:extracted)"
   ]
  },
  {
   "cell_type": "markdown",
   "id": "ad3b6c17-4838-4007-9428-e4835b5b2c0e",
   "metadata": {
    "label": {
     "note": "extracted"
    },
    "tags": []
   },
   "source": [
    "Voyez comment les notes sont extraites et rapportées à la section de notes à la fin du document. C'est là aussi qu'on entend inscrire les références bibliographiques."
   ]
  },
  {
   "cell_type": "markdown",
   "id": "00722294-b779-407e-8e0e-031e49c879a4",
   "metadata": {},
   "source": [
    "Dans la section *Notes et références* [à la fin](#notes), remarquez comment on insiste pour inscrire les URLs externes explicitement, plutôt que de les cacher dans un texte de remplacement. Ceci est pour que le lecteur d'un imprimé de votre document puisse suivre ces URLs aussi bien qu'un lecteur de la version numérique."
   ]
  },
  {
   "cell_type": "markdown",
   "id": "61c2f88c-f9f0-4d77-b02e-b77375adc553",
   "metadata": {
    "label": {
     "sec": "level2"
    },
    "tags": []
   },
   "source": [
    "## Comme cette section de niveau 2 ici"
   ]
  },
  {
   "cell_type": "markdown",
   "id": "7b773484-19c9-4e8d-98b2-37163fc34ecc",
   "metadata": {},
   "source": [
    "Grâce à MathJax,^[](note:mathjax) on a accès à une typographie très correcte des équations et des mathématiques. Ce gabarit les numérote pourvu que les passages mathématiques soient étiquetés."
   ]
  },
  {
   "cell_type": "markdown",
   "id": "5123886f-21f6-46fb-bb29-a0251811a628",
   "metadata": {
    "label": {
     "note": "mathjax"
    },
    "tags": []
   },
   "source": [
    "MathJax est une librairie Javascript pour typographier des expressions mathématiques formulées dans une notation similaire à LaTeX.^[](note:latex) https://www.mathjax.org/"
   ]
  },
  {
   "cell_type": "markdown",
   "id": "6a64523e-e47e-4151-9744-45ecd4d06d72",
   "metadata": {
    "label": {
     "eq": "entropy-shannon"
    },
    "tags": []
   },
   "source": [
    "$$\\mathrm{H}(X) = -\\sum_{i=1}^n \\mathrm{P}(x_i)\\log\\mathrm{P}(x_i)$$"
   ]
  },
  {
   "cell_type": "markdown",
   "id": "6dcd6c09-e455-410c-8fa4-0b916e9beefa",
   "metadata": {},
   "source": [
    "Naturellement, tout ce qu'on étiquette se trouve numéroté, et tout ce qui est numéroté, comme l'^[](eq:entropy-shannon), on peut y référer."
   ]
  },
  {
   "cell_type": "markdown",
   "id": "dd1d0cac-5240-467c-b45d-f14a8062c397",
   "metadata": {},
   "source": [
    "## Cette section ne sera pas numérotée"
   ]
  },
  {
   "cell_type": "markdown",
   "id": "7274482d-60d8-4f95-b7bf-82cc22a6636f",
   "metadata": {},
   "source": [
    "En effet, on ne l'a pas étiquetée."
   ]
  },
  {
   "cell_type": "markdown",
   "id": "42cfdff1-aaf8-4c86-8c83-8e41a58e0d45",
   "metadata": {
    "label": {
     "sec": "back"
    },
    "tags": []
   },
   "source": [
    "## Puis on numérote les sections à nouveau"
   ]
  },
  {
   "cell_type": "markdown",
   "id": "2d2d96c9-b99f-433c-82cd-820ee855ae8c",
   "metadata": {},
   "source": [
    "Ce n'est pas une bonne idée de mélanger les deux styles, mais faisons-le néanmoins juste pour cette exemple. La notion de numéroter sous condition d'étiqueter donne à l'auteur le choix du niveau maximal de sections numérotées qu'iel désire."
   ]
  },
  {
   "cell_type": "markdown",
   "id": "601d90c5-7143-4931-8a32-aa8b01796530",
   "metadata": {
    "label": {
     "sec": "figures-tables"
    },
    "tags": []
   },
   "source": [
    "# Figures et tableaux"
   ]
  },
  {
   "cell_type": "markdown",
   "id": "c246d802-1bd3-4329-b778-1f61801b471b",
   "metadata": {},
   "source": [
    "Bien qu'on puisse ajouter des images et des tableaux où on veut dans ses documents, ce gabarit procure le moyen de les numéroter et d'y associer une légende, facilitant la référence. Voici une figure qui montre un bout de code."
   ]
  },
  {
   "cell_type": "markdown",
   "id": "b1e4e1f6-4594-41bc-9a84-859adadf4dd7",
   "metadata": {
    "label": {
     "fig": "fizzbuzz"
    },
    "tags": []
   },
   "source": [
    "```python\n",
    "def fizzbuzz(ints: Iterator[int]) -> Iterator[str]:\n",
    "    response = []\n",
    "    for n in ints:\n",
    "        if n % 3 == 0:\n",
    "            response.append(\"Fizz\")\n",
    "        if n % 5 == 0:\n",
    "            response.append(\"Buzz\")\n",
    "        if not response:\n",
    "            response.append(str(n))\n",
    "        yield \"\".join(response)\n",
    "```"
   ]
  },
  {
   "cell_type": "markdown",
   "id": "58139a77-d52b-49a1-9fae-75052e659418",
   "metadata": {
    "tags": [
     "legend"
    ]
   },
   "source": [
    "Une solution au problème FizzBuzz^[](note:fizzbuzz) formulée comme une transformation de flux."
   ]
  },
  {
   "cell_type": "markdown",
   "id": "ee44eb48-8f05-4012-b82d-78b9a1e5cc79",
   "metadata": {
    "label": {
     "note": "fizzbuzz"
    },
    "tags": []
   },
   "source": [
    "*Fizz buzz* est un jeu souvent soumis à des programmeurs en herbe en tant que premier défi de design d'algorithme.. https://en.wikipedia.org/wiki/Fizz_buzz. La ^[](fig:fizzbuzz) montre une solution de ce problème."
   ]
  },
  {
   "cell_type": "markdown",
   "id": "56ab0ff9-2dda-4eff-8207-2ef55ea9d9a6",
   "metadata": {},
   "source": [
    "Voici maintenant un tableau."
   ]
  },
  {
   "cell_type": "markdown",
   "id": "e0660a97-64f0-4c1a-95d0-fbca23c81833",
   "metadata": {
    "label": {
     "tab": "birthdays"
    },
    "tags": []
   },
   "source": [
    "| Personne      | Anniversaire |\n",
    "|:--------------|:------------:|\n",
    "| Lady Gaga     | 1986-03-28   |\n",
    "| Madonna       | 1958-08-16   |\n",
    "| Eddie Vedder  | 1964-12-23   |\n",
    "| Taylor Momsen | 1993-07-26   |\n",
    "| Björk         | 1965-11-21   |\n",
    "| Ma partenaire | uhh... holà  |"
   ]
  },
  {
   "cell_type": "markdown",
   "id": "3fded9ea-d913-4306-ba78-8c40c0171d16",
   "metadata": {
    "tags": [
     "legend"
    ]
   },
   "source": [
    "La mémoire questionnable d'un cerveau corrompu par l'Internet."
   ]
  },
  {
   "cell_type": "markdown",
   "id": "ebb5ee89-87d5-4e8f-b96c-63bd627e0f90",
   "metadata": {},
   "source": [
    "Le ^[](tab:birthdays) procure aussi une explication de ma crainte de n'avoir qu'une courte espérance de vie. Les numéros de figures et de tableaux, de même que ceux des équations et des notes, croissent au gré des sections, tel qu'ils le font par défaut lorsqu'on compile un article avec LaTeX."
   ]
  }
 ],
 "metadata": {
  "authors": [
   {
    "name": "Cosette"
   },
   {
    "name": "Jean Valjean"
   }
  ],
  "kernelspec": {
   "display_name": "Python 3 (ipykernel)",
   "language": "python",
   "name": "python3"
  },
  "language": "fr",
  "language_info": {
   "codemirror_mode": {
    "name": "ipython",
    "version": 3
   },
   "file_extension": ".py",
   "mimetype": "text/x-python",
   "name": "python",
   "nbconvert_exporter": "python",
   "pygments_lexer": "ipython3",
   "version": "3.9.12"
  },
  "title": "Démonstration des caractéristiques de ce gabarit"
 },
 "nbformat": 4,
 "nbformat_minor": 5
}
