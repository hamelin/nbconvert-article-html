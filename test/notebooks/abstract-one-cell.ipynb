{
 "cells": [
  {
   "cell_type": "markdown",
   "id": "1b8ec4e0-6627-46ec-9e0f-c8195b3835a9",
   "metadata": {},
   "source": [
    "This is not in the abstract."
   ]
  },
  {
   "cell_type": "markdown",
   "id": "22fb4f99-a751-4d70-94fe-ba4689c02317",
   "metadata": {
    "tags": [
     "abstract"
    ]
   },
   "source": [
    "This _is_ the abstract.\n",
    "\n",
    "There is more than one paragraph to it."
   ]
  },
  {
   "cell_type": "markdown",
   "id": "3a1249a5-b472-4c08-abe3-79924eddef09",
   "metadata": {},
   "source": [
    "This is not in the abstract."
   ]
  }
 ],
 "metadata": {
  "kernelspec": {
   "display_name": "Python 3 (ipykernel)",
   "language": "python",
   "name": "python3"
  },
  "language_info": {
   "codemirror_mode": {
    "name": "ipython",
    "version": 3
   },
   "file_extension": ".py",
   "mimetype": "text/x-python",
   "name": "python",
   "nbconvert_exporter": "python",
   "pygments_lexer": "ipython3",
   "version": "3.9.12"
  }
 },
 "nbformat": 4,
 "nbformat_minor": 5
}
