{
 "cells": [
  {
   "cell_type": "markdown",
   "id": "f3c3e30f-1fb0-43cb-a169-9933a7bea837",
   "metadata": {
    "label": {
     "sec": "one"
    },
    "tags": []
   },
   "source": [
    "# Section one"
   ]
  },
  {
   "cell_type": "markdown",
   "id": "b47326b0-bda3-4ff7-bcfb-648a4da3ecdb",
   "metadata": {
    "label": {
     "sec": "major"
    },
    "tags": []
   },
   "source": [
    "# Other major division"
   ]
  },
  {
   "cell_type": "markdown",
   "id": "9e74d49f-3ff7-427e-9285-ea29f3b02580",
   "metadata": {},
   "source": [
    "Let's not forget^[](note:forgetting) our families here."
   ]
  },
  {
   "cell_type": "markdown",
   "id": "e2d46feb-fe2d-4639-8a7a-1c1e17ac0c54",
   "metadata": {
    "label": {
     "note": "forgetting"
    },
    "tags": []
   },
   "source": [
    "Forgetting is what again?"
   ]
  },
  {
   "cell_type": "markdown",
   "id": "f0f90856-649e-41e1-8c71-0218fd5a184f",
   "metadata": {
    "label": {
     "tab": "mind"
    },
    "tags": []
   },
   "source": [
    "|Keep in mind|\n",
    "|------------|\n",
    "|Families    |\n",
    "|Look up what forgetting is|"
   ]
  },
  {
   "cell_type": "markdown",
   "id": "f2e18b6a-dbd6-4004-b098-024502587c24",
   "metadata": {
    "tags": [
     "legend"
    ]
   },
   "source": [
    "The things to keep in mind."
   ]
  },
  {
   "cell_type": "markdown",
   "id": "a0540e2b-7e92-4996-affc-16ec3c41810e",
   "metadata": {
    "label": {
     "sec": "minor"
    },
    "tags": []
   },
   "source": [
    "## And first minor division"
   ]
  },
  {
   "cell_type": "markdown",
   "id": "1a7c24a6-a105-4e81-a2c1-e176b02eafb9",
   "metadata": {
    "label": {
     "fig": "code"
    },
    "tags": []
   },
   "source": [
    "```python\n",
    "def f(a, b):\n",
    "    print(a + b)\n",
    "```"
   ]
  },
  {
   "cell_type": "markdown",
   "id": "e154955b-11fb-4eb6-9484-0115ffce0174",
   "metadata": {
    "tags": [
     "legend"
    ]
   },
   "source": [
    "This is the code of function `f`."
   ]
  },
  {
   "cell_type": "markdown",
   "id": "b201e6b1-a9b8-4e51-848c-9bc6f7272302",
   "metadata": {
    "label": {
     "eq": "a-plus-b"
    },
    "tags": []
   },
   "source": [
    "$$f(a, b) = a + b$$"
   ]
  }
 ],
 "metadata": {
  "kernelspec": {
   "display_name": "Python 3 (ipykernel)",
   "language": "python",
   "name": "python3"
  },
  "language": "en",
  "language_info": {
   "codemirror_mode": {
    "name": "ipython",
    "version": 3
   },
   "file_extension": ".py",
   "mimetype": "text/x-python",
   "name": "python",
   "nbconvert_exporter": "python",
   "pygments_lexer": "ipython3",
   "version": "3.9.12"
  }
 },
 "nbformat": 4,
 "nbformat_minor": 5
}
