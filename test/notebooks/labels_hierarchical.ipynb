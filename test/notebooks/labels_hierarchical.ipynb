{
 "cells": [
  {
   "cell_type": "markdown",
   "id": "12592147-465b-4615-aa37-c2c4a39198c3",
   "metadata": {
    "label": {
     "sec": "toplevel"
    },
    "tags": []
   },
   "source": [
    "# Level-1 heading"
   ]
  },
  {
   "cell_type": "markdown",
   "id": "3678e539-d06e-454a-af78-fb93a2276461",
   "metadata": {},
   "source": [
    "Some text"
   ]
  },
  {
   "cell_type": "markdown",
   "id": "d737a847-8e7a-4990-81f5-a5293aee62ae",
   "metadata": {
    "label": {
     "sec": "level2"
    },
    "tags": []
   },
   "source": [
    "## Level-2 heading"
   ]
  },
  {
   "cell_type": "markdown",
   "id": "6a78e9cd-bcfd-4a32-93f5-b7e2aa00a81c",
   "metadata": {
    "label": {
     "sec": "level3"
    },
    "tags": []
   },
   "source": [
    "### Level-3 now"
   ]
  },
  {
   "cell_type": "markdown",
   "id": "654dc18f-597f-4435-ac6e-61e56ba6103a",
   "metadata": {},
   "source": [
    "More text"
   ]
  },
  {
   "cell_type": "markdown",
   "id": "c3fbdf03-2833-408d-8018-5a1877c58be1",
   "metadata": {
    "label": {
     "sec": "other3"
    },
    "tags": []
   },
   "source": [
    "### Some other level-3"
   ]
  },
  {
   "cell_type": "markdown",
   "id": "11aa6539-60b8-4b7e-a134-0c6d33723a4e",
   "metadata": {
    "label": {
     "sec": "one-more"
    },
    "tags": []
   },
   "source": [
    "### And one more"
   ]
  },
  {
   "cell_type": "markdown",
   "id": "2699204b-9f4c-496c-853b-08a80ad27ef3",
   "metadata": {
    "label": {
     "sec": "at2now"
    },
    "tags": []
   },
   "source": [
    "## At level 2 now"
   ]
  },
  {
   "cell_type": "markdown",
   "id": "3bd9bd97-f778-4736-971c-580a3f4b4503",
   "metadata": {
    "label": {
     "sec": "reset3"
    },
    "tags": []
   },
   "source": [
    "### Reset level 3?"
   ]
  },
  {
   "cell_type": "markdown",
   "id": "aa235cc7-94d5-48b4-be1d-59da02894ea3",
   "metadata": {
    "label": {
     "sec": "further3"
    },
    "tags": []
   },
   "source": [
    "### And further level 3"
   ]
  },
  {
   "cell_type": "markdown",
   "id": "9f1483e4-4426-42d1-a7cc-c42854de5a7e",
   "metadata": {
    "label": {
     "sec": "backto1"
    },
    "tags": []
   },
   "source": [
    "# Ok reset everything"
   ]
  },
  {
   "cell_type": "markdown",
   "id": "b52aeb55-bd97-4681-a19b-b4576b7657d5",
   "metadata": {
    "label": {
     "sec": "ready21"
    },
    "tags": []
   },
   "source": [
    "## Ready for the 2.1"
   ]
  },
  {
   "cell_type": "markdown",
   "id": "19f3ad7a-c769-47c7-a714-ac447f37270a",
   "metadata": {
    "label": {
     "sec": "skip"
    },
    "tags": []
   },
   "source": [
    "## Skip over"
   ]
  },
  {
   "cell_type": "markdown",
   "id": "a7f446d9-5ef1-4e09-b92f-12752684564d",
   "metadata": {
    "label": {
     "sec": "and-into"
    },
    "tags": []
   },
   "source": [
    "### And into level 3"
   ]
  },
  {
   "cell_type": "markdown",
   "id": "f650a00f-fc1d-423d-818c-a155f3addb4e",
   "metadata": {
    "label": {
     "sec": "final"
    },
    "tags": []
   },
   "source": [
    "### Final check"
   ]
  }
 ],
 "metadata": {
  "kernelspec": {
   "display_name": "Python 3 (ipykernel)",
   "language": "python",
   "name": "python3"
  },
  "language_info": {
   "codemirror_mode": {
    "name": "ipython",
    "version": 3
   },
   "file_extension": ".py",
   "mimetype": "text/x-python",
   "name": "python",
   "nbconvert_exporter": "python",
   "pygments_lexer": "ipython3",
   "version": "3.9.12"
  }
 },
 "nbformat": 4,
 "nbformat_minor": 5
}
