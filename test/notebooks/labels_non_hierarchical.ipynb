{
 "cells": [
  {
   "cell_type": "markdown",
   "id": "f66b4578-94f2-4e28-9338-51cd5a8956f8",
   "metadata": {
    "label": {
     "note": "a-note"
    },
    "raw_mimetype": "text/markdown",
    "tags": []
   },
   "source": [
    "This would be the text of an end note."
   ]
  },
  {
   "cell_type": "markdown",
   "id": "683fdd94-0305-4a1d-87da-00af18c8dced",
   "metadata": {
    "label": {
     "eq": "quadratic"
    },
    "tags": []
   },
   "source": [
    "$$f(x) = ax^2 + bx + c$$"
   ]
  },
  {
   "cell_type": "markdown",
   "id": "6031595b-60e4-48c2-8050-4264e4d22dc3",
   "metadata": {
    "label": {
     "fig": "some-code"
    },
    "tags": []
   },
   "source": [
    "```python\n",
    "def code_in_a_figure():\n",
    "    return \"The next cell will be the legend.\"\n",
    "```"
   ]
  },
  {
   "cell_type": "markdown",
   "id": "b34b464c-184a-41c6-9952-781880b412f5",
   "metadata": {},
   "source": [
    "The legend for the figure..."
   ]
  },
  {
   "cell_type": "markdown",
   "id": "03b3a9ed-f062-4e80-b81f-041747cf0fdc",
   "metadata": {
    "label": {
     "tab": "head-foot"
    },
    "tags": []
   },
   "source": [
    "| Head | Foot |\n",
    "|------|------|\n",
    "| Up   | Down |\n",
    "| Good | Stink|"
   ]
  },
  {
   "cell_type": "markdown",
   "id": "a66b30e1-52a7-408a-87d2-a2a5377f4cf3",
   "metadata": {},
   "source": [
    "The legend for the table"
   ]
  },
  {
   "cell_type": "markdown",
   "id": "ea07397c-6525-426a-bd14-27a84341a1fb",
   "metadata": {},
   "source": [
    "$$f(8) = 64a + 8b + c$$"
   ]
  },
  {
   "cell_type": "markdown",
   "id": "23d8f36a-9ab5-41fe-bcbd-a4eb10aee669",
   "metadata": {
    "label": {
     "eq": "derivative"
    },
    "tags": []
   },
   "source": [
    "$$\\frac{\\mathrm{d}f}{\\mathrm{d}x} = f'(x) = 2ax + b$$"
   ]
  }
 ],
 "metadata": {
  "kernelspec": {
   "display_name": "Python 3 (ipykernel)",
   "language": "python",
   "name": "python3"
  },
  "language_info": {
   "codemirror_mode": {
    "name": "ipython",
    "version": 3
   },
   "file_extension": ".py",
   "mimetype": "text/x-python",
   "name": "python",
   "nbconvert_exporter": "python",
   "pygments_lexer": "ipython3",
   "version": "3.9.12"
  }
 },
 "nbformat": 4,
 "nbformat_minor": 5
}
