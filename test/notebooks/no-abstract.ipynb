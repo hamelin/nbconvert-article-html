{
 "cells": [
  {
   "cell_type": "markdown",
   "id": "89d4f491-97e7-4d71-a037-5b456b8bc005",
   "metadata": {},
   "source": [
    "A notebook without any abstract."
   ]
  },
  {
   "cell_type": "markdown",
   "id": "bb904d02-bbc3-45d0-b922-b34a7e0a4437",
   "metadata": {},
   "source": [
    "A little sad, honestly."
   ]
  }
 ],
 "metadata": {
  "kernelspec": {
   "display_name": "Python 3 (ipykernel)",
   "language": "python",
   "name": "python3"
  },
  "language_info": {
   "codemirror_mode": {
    "name": "ipython",
    "version": 3
   },
   "file_extension": ".py",
   "mimetype": "text/x-python",
   "name": "python",
   "nbconvert_exporter": "python",
   "pygments_lexer": "ipython3",
   "version": "3.9.12"
  }
 },
 "nbformat": 4,
 "nbformat_minor": 5
}
