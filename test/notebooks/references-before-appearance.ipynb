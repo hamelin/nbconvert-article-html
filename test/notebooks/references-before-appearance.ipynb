{
 "cells": [
  {
   "cell_type": "markdown",
   "id": "0fe550ca-d130-4a8b-9283-ed0d488d4661",
   "metadata": {},
   "source": [
    "La magie de la séquence de préprocesseurs fait en sorte que je peux référer à la ^[](fig:quadratic) avant qu'elle n'apparaisse dans le texte."
   ]
  },
  {
   "cell_type": "markdown",
   "id": "9245da90-d481-4333-9e92-721eaf878afa",
   "metadata": {
    "label": {
     "fig": "quadratic"
    },
    "tags": []
   },
   "source": [
    "```python\n",
    "def quadratique(x, a, b, c):\n",
    "    return a * x ** 2 + b * x + c\n",
    "```"
   ]
  },
  {
   "cell_type": "markdown",
   "id": "6f14a384-0a11-43c6-a9b3-d89c3134763e",
   "metadata": {
    "tags": [
     "legend"
    ]
   },
   "source": [
    "Ci-haut est une fonction quadratique (et ceci est la légende de cette figure)."
   ]
  }
 ],
 "metadata": {
  "kernelspec": {
   "display_name": "Python 3 (ipykernel)",
   "language": "python",
   "name": "python3"
  },
  "language": "fr",
  "language_info": {
   "codemirror_mode": {
    "name": "ipython",
    "version": 3
   },
   "file_extension": ".py",
   "mimetype": "text/x-python",
   "name": "python",
   "nbconvert_exporter": "python",
   "pygments_lexer": "ipython3",
   "version": "3.9.12"
  }
 },
 "nbformat": 4,
 "nbformat_minor": 5
}
