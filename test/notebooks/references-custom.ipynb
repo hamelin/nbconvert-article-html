{
 "cells": [
  {
   "cell_type": "markdown",
   "id": "fab21a44-98f7-4d49-81a2-9a5f1d054c28",
   "metadata": {
    "label": {
     "sec": "one"
    },
    "tags": []
   },
   "source": [
    "# This is section 1"
   ]
  },
  {
   "cell_type": "markdown",
   "id": "d5d8da41-e4e5-4180-814d-4bc0f8051735",
   "metadata": {
    "label": {
     "sec": "two"
    },
    "tags": []
   },
   "source": [
    "# This is section 2"
   ]
  },
  {
   "cell_type": "markdown",
   "id": "df3edff9-9d56-4758-8fc8-37d9643cfd93",
   "metadata": {},
   "source": [
    "From here, I can reference ^[](sec:one) using the default reference, as well as put ^[my own link, {}](sec:two)."
   ]
  }
 ],
 "metadata": {
  "kernelspec": {
   "display_name": "Python 3 (ipykernel)",
   "language": "python",
   "name": "python3"
  },
  "language": "en",
  "language_info": {
   "codemirror_mode": {
    "name": "ipython",
    "version": 3
   },
   "file_extension": ".py",
   "mimetype": "text/x-python",
   "name": "python",
   "nbconvert_exporter": "python",
   "pygments_lexer": "ipython3",
   "version": "3.9.12"
  }
 },
 "nbformat": 4,
 "nbformat_minor": 5
}
