{
 "cells": [
  {
   "cell_type": "markdown",
   "id": "29bbefdc-0838-4b3b-8e1b-16f48773a07a",
   "metadata": {},
   "source": [
    "From here, I want to set aside a note.^[](note:link-external)"
   ]
  },
  {
   "cell_type": "markdown",
   "id": "01f1e3d5-a83c-4329-a2e9-f022d7cf547d",
   "metadata": {
    "label": {
     "note": "link-external"
    },
    "tags": []
   },
   "source": [
    "This note means to refer to https://github.com."
   ]
  }
 ],
 "metadata": {
  "kernelspec": {
   "display_name": "Python 3 (ipykernel)",
   "language": "python",
   "name": "python3"
  },
  "language_info": {
   "codemirror_mode": {
    "name": "ipython",
    "version": 3
   },
   "file_extension": ".py",
   "mimetype": "text/x-python",
   "name": "python",
   "nbconvert_exporter": "python",
   "pygments_lexer": "ipython3",
   "version": "3.9.12"
  }
 },
 "nbformat": 4,
 "nbformat_minor": 5
}
