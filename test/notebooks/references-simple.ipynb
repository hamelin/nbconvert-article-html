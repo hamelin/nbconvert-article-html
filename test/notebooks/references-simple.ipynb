{
 "cells": [
  {
   "cell_type": "markdown",
   "id": "28fffb8e-645c-4235-bb07-f5756fa456aa",
   "metadata": {},
   "source": [
    "Here is an equation:"
   ]
  },
  {
   "cell_type": "markdown",
   "id": "db8f3ee5-20d9-4011-998f-0bc8590af92c",
   "metadata": {
    "label": {
     "eq": "quadratic"
    },
    "tags": []
   },
   "source": [
    "$$f(x) = ax^2 + bx + c$$"
   ]
  },
  {
   "cell_type": "markdown",
   "id": "7bccc278-3707-4065-9896-00c3ceaf76b3",
   "metadata": {},
   "source": [
    "And here is another one."
   ]
  },
  {
   "cell_type": "markdown",
   "id": "7c33ad45-e473-49b5-9178-d2ebad73fb83",
   "metadata": {
    "label": {
     "eq": "exponential"
    },
    "tags": []
   },
   "source": [
    "$$f(x) = \\frac{1}{a} e^{ax}$$"
   ]
  },
  {
   "cell_type": "markdown",
   "id": "87e25f75-7e5d-408e-8804-1f13e2dd9b50",
   "metadata": {},
   "source": [
    "In reverse order, I can reference equations ^[](eq:exponential) and ^[](eq:quadratic)."
   ]
  }
 ],
 "metadata": {
  "kernelspec": {
   "display_name": "Python 3 (ipykernel)",
   "language": "python",
   "name": "python3"
  },
  "language": "en",
  "language_info": {
   "codemirror_mode": {
    "name": "ipython",
    "version": 3
   },
   "file_extension": ".py",
   "mimetype": "text/x-python",
   "name": "python",
   "nbconvert_exporter": "python",
   "pygments_lexer": "ipython3",
   "version": "3.9.12"
  }
 },
 "nbformat": 4,
 "nbformat_minor": 5
}
